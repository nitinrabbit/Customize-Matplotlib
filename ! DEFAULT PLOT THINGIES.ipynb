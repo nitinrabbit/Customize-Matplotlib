{
 "cells": [
  {
   "cell_type": "markdown",
   "metadata": {},
   "source": [
    "The following is the default initialisation code. Use (?) it from another notebook using\n",
    "\n",
    "```\n",
    "%run \"! DEFAULT PLOT THINGIES.ipynb\"\n",
    "%run \"../! DEFAULT PLOT THINGIES.ipynb\"\n",
    "```\n",
    "\n",
    "and all should be 'swell. (the double run is necessary for after the chdir)"
   ]
  },
  {
   "cell_type": "code",
   "execution_count": 4,
   "metadata": {
    "ExecuteTime": {
     "end_time": "2016-08-22T16:11:52.146000",
     "start_time": "2016-08-22T16:11:51.129000"
    },
    "collapsed": false
   },
   "outputs": [
    {
     "data": {
      "application/javascript": [
       "var kernel = IPython.notebook.kernel;\n",
       "var thename = window.document.getElementById(\"notebook_name\").innerHTML;\n",
       "var command = \"theNotebook = \" + \"'\"+thename+\"'\";\n",
       "kernel.execute(command);"
      ],
      "text/plain": [
       "<IPython.core.display.Javascript object>"
      ]
     },
     "metadata": {},
     "output_type": "display_data"
    }
   ],
   "source": [
    "%%javascript\n",
    "var kernel = IPython.notebook.kernel;\n",
    "var thename = window.document.getElementById(\"notebook_name\").innerHTML;\n",
    "var command = \"theNotebook = \" + \"'\"+thename+\"'\";\n",
    "kernel.execute(command);"
   ]
  },
  {
   "cell_type": "code",
   "execution_count": 5,
   "metadata": {
    "ExecuteTime": {
     "end_time": "2016-08-22T16:11:54.162000",
     "start_time": "2016-08-22T16:11:53.778000"
    },
    "collapsed": false
   },
   "outputs": [],
   "source": [
    "import os, socket, IPython\n",
    "\n",
    "basedir = {\"MEETPC116\": \"c:/users/deen/dropbox/phd rearrangements/thesis/notebooks\"}[socket.gethostname()]\n",
    "try:\n",
    "    path = os.path.join(basedir, theNotebook)\n",
    "    \n",
    "    if \"_\" in theNotebook:\n",
    "        raise Exception(\"Notebook name must not contain underscores, or LaTeX will complain!\")\n",
    "\n",
    "    if not theNotebook.startswith(\"!\"):\n",
    "        try:\n",
    "            os.makedirs(path)\n",
    "        except OSError:\n",
    "            pass\n",
    "\n",
    "        os.chdir(path)\n",
    "        print \"Current working directory is now\", os.getcwd()\n",
    "except NameError:\n",
    "    print \"Please re-run this cell (should be automagic, but what can one do...)\"\n",
    "    \n",
    "    IPython.core.display.display_javascript(\"\"\" \n",
    "    var c = IPython.notebook.get_cell(0);\n",
    "    if (c.element[0].innerHTML.substr(\"! DEFAULT PLOT THINGIES.ipynb\") != 1) {\n",
    "        c.execute();\n",
    "    }\"\"\", raw=True)"
   ]
  },
  {
   "cell_type": "code",
   "execution_count": 6,
   "metadata": {
    "ExecuteTime": {
     "end_time": "2016-08-22T16:12:06.891000",
     "start_time": "2016-08-22T16:11:54.468000"
    },
    "collapsed": false
   },
   "outputs": [
    {
     "name": "stdout",
     "output_type": "stream",
     "text": [
      "Populating the interactive namespace from numpy and matplotlib\n"
     ]
    }
   ],
   "source": [
    "%pylab inline\n",
    "from __future__ import division\n",
    "import glob\n",
    "import sys, os\n",
    "import pandas\n",
    "import pandas as pd\n",
    "\n",
    "fig_width_pt = 355 #pt; ~165 mm\n",
    "inches_per_pt = 1.0/72.27               # Convert pt to inches\n",
    "golden_mean = (sqrt(5)-1.0)/2.0         # Aesthetic ratio\n",
    "fig_width = fig_width_pt*inches_per_pt  # width in inches\n",
    "fig_height =fig_width/1.5     # height in inches\n",
    "\n",
    "fig_size = [fig_width,fig_width/2.05] #fig_height]\n",
    "half_fig_size = [fig_width/2.05, fig_width/2.05]\n",
    "\n",
    "\n",
    "    \n",
    "\n",
    "\n",
    "fig_sppars_dict = dict(left = 0.125, bottom=0.19, right=0.97, top=0.94)\n",
    "fig_sppars = mpl.figure.SubplotParams(**fig_sppars_dict)\n",
    "\n",
    "half_fig_sppars_dict = dict(left = fig_sppars.left*2,\n",
    "                            bottom = fig_sppars.bottom,\n",
    "                            right = 1-(1-fig_sppars.right)*2,\n",
    "                            top = fig_sppars.top)\n",
    "half_fig_sppars = mpl.figure.SubplotParams(**half_fig_sppars_dict)\n",
    "\n",
    "fpf_width_pt = 512\n",
    "fpf_height_pt = 355 - 20 # 20 pt for caption\n",
    "fpf_width = fpf_width_pt * inches_per_pt\n",
    "fpf_height = fpf_height_pt * inches_per_pt\n",
    "fpf_size = [fpf_width, fpf_height]\n",
    "\n",
    "fpf_sppars_dict = dict(\n",
    "    left = fig_sppars.left * fig_width / fpf_width,\n",
    "    bottom = fig_sppars.bottom * fig_height / fpf_height,\n",
    "    right = 1 - (1 - fig_sppars.right) * fig_width / fpf_width,\n",
    "    top = 1 - (1 - fig_sppars.top) * fig_height / fpf_height\n",
    ")\n",
    "\n",
    "fpf_sppars = mpl.figure.SubplotParams(**fpf_sppars_dict)\n",
    "\n",
    "def reset_subplots_adjust():\n",
    "    fig = plt.gcf()\n",
    "    if fig.subplotpars == fig_sppars:\n",
    "        subplots_adjust(**fig_sppars_dict)\n",
    "    elif fig.subplotpars == half_fig_sppars:\n",
    "        subplots_adjust(**half_fig_sppars_dict)\n",
    "    elif fig.subplotpars == fpf_sppars:\n",
    "        subplots_adjust(**fpf_sppars)\n",
    "    else:\n",
    "        raise Exception('unknown subplotparams!')\n",
    "\n",
    "    \n",
    "rc('text.latex', preamble = r\"\\usepackage{mathpazo}\\usepackage{nicefrac}\")\n",
    "rc('text', usetex=True)\n",
    "rc('figure', figsize=fig_size)\n",
    "rc('font', size=10)\n",
    "rc('font', family='serif')\n",
    "rc('savefig', dpi=300)\n",
    "\n",
    "rc('image', cmap='viridis')\n",
    "\n",
    "\n",
    "def fullfig(**kwargs):\n",
    "    params = {'figsize': fig_size[:], 'subplotpars': fig_sppars}\n",
    "    params.update(kwargs)\n",
    "    if 'hf' in params:\n",
    "        params['figsize'][1] *= params.pop('hf')\n",
    "    return figure(**params)\n",
    "\n",
    "def halffig(**kwargs):\n",
    "    params = {'figsize': half_fig_size[:], 'subplotpars': half_fig_sppars}\n",
    "    params.update(kwargs)\n",
    "    if 'hf' in params:\n",
    "        params['figsize'][1] *= params.pop('hf')\n",
    "    return figure(**params)\n",
    "\n",
    "def pagefig(**kwargs):\n",
    "    params = {'figsize': fpf_size[:], 'subplotpars': fpf_sppars}\n",
    "    params.update(kwargs)\n",
    "    if 'hf' in params:\n",
    "        params['figsize'][1] *= params.pop('hf')\n",
    "    return figure(**params)    \n",
    "\n",
    "def subplotlabel(label, loc='upper left', offsetx=6, offsety=6, ax=None, **kwargs):\n",
    "    \"\"\" e.g. subplotlabel('(a)', 'upper right')\n",
    "    upper/lower, left/right are accepted\n",
    "    offset is in bbox width units\n",
    "    \"\"\"\n",
    "\n",
    "    if ax is None:\n",
    "        ax = gca()\n",
    "    \n",
    "    v,h = loc.split(' ')\n",
    "    \n",
    "    axh = ax.bbox.height\n",
    "    axw = ax.bbox.width\n",
    "    \n",
    "    if v == 'upper':\n",
    "        va = 'top'\n",
    "        y = 1-offsety/axh\n",
    "    elif v == 'lower':\n",
    "        va = 'bottom'\n",
    "        y = offsety/axh\n",
    "    else:\n",
    "        raise Exception('unknown location')\n",
    "\n",
    "    if h == 'left':\n",
    "        ha = 'left'\n",
    "        x = offsetx/axw\n",
    "    elif h == 'right':\n",
    "        ha = 'right'\n",
    "        x = 1-offsetx/axw\n",
    "    else:\n",
    "        raise Exception('unknown location')\n",
    "\n",
    "    kw = dict(transform=ax.transAxes,\n",
    "              verticalalignment=va,\n",
    "              horizontalalignment=ha,\n",
    "              size='x-large',\n",
    "              zorder=-1)\n",
    "    kw.update(kwargs)\n",
    "    return ax.text(x, y, label, **kw)"
   ]
  },
  {
   "cell_type": "markdown",
   "metadata": {},
   "source": [
    "Preparation\n",
    "-----------\n",
    "\n",
    "We only look at packings which meet the following basic requirements:\n",
    "\n",
    "1. $10^{-7} \\leq P \\leq 10^{-1.5}$\n",
    "2. $|\\sigma_{xy, \\textrm{base}}| < 10^{-15}$ (packing equilibration)\n",
    "3. $|\\max(\\nabla U)/P| < 10^{-8}$ (packing equilibration)\n",
    "\n",
    "Then, during shear, they must also conform to the following two rules:\n",
    "\n",
    "1. $N_\\textrm{eff}^+ \\leq N_\\textrm{eff}^-$: events where rattlers becoming non-rattlers are ill-defined\n",
    "2. $N^+ = 0$ and $N^- > 0$ _or_ $N^+ > 0$ and $N^- = 0$ (no composite events)\n",
    "\n",
    "Last, but not least, we only include $(N,P)$ sets that have at least 20 conforming packings.\n"
   ]
  },
  {
   "cell_type": "code",
   "execution_count": 7,
   "metadata": {
    "ExecuteTime": {
     "end_time": "2016-08-22T16:12:10.318000",
     "start_time": "2016-08-22T16:12:06.896000"
    },
    "collapsed": false
   },
   "outputs": [],
   "source": [
    "import tables\n",
    "base = \"E:/PhD rearrangements/auto/\"\n",
    "summ = tables.File(base + \"h5/shear_summary_cache.h5\").root.data.read()\n",
    "\n",
    "dataN = summ[\"N\"]\n",
    "datalP = around(log10(summ[\"P\"]),2)\n",
    "\n",
    "#print \"Total # of packings: \", len(summ)\n",
    "\n",
    "# (1.1) pressure\n",
    "mask = (datalP >= -7) * (datalP <= -1.5)\n",
    "#print \"After (1.1): \", len(summ[mask])\n",
    "\n",
    "# (1.2) convergence initial packing\n",
    "mask *= (abs(summ[\"sxy_base\"]) < 1e-15)\n",
    "#print \"After (1.2): \", len(summ[mask])\n",
    "\n",
    "# (1.3) convergence initial packing\n",
    "mask *= (abs(summ[\"maxGrad_base\"] / summ[\"P\"]) < 1e-8)\n",
    "#print \"After (1.3): \", len(summ[mask])\n",
    "\n",
    "# (2.1) no rattlers -> non-rattlers\n",
    "mask *= (summ[\"Neff_plus\"] <= summ[\"Neff_min\"])\n",
    "#print \"After (2.1): \", len(summ[mask])\n",
    "\n",
    "# (2.2) no composite events\n",
    "mask *= logical_or( (summ[\"N+_plus\"] == 0) * (summ[\"N-_plus\"] >  0),\n",
    "                    (summ[\"N+_plus\"] >  0) * (summ[\"N-_plus\"] == 0)\n",
    "        )\n",
    "#print \"After (2.2): \", len(summ[mask])\n",
    "\n",
    "# (3) only NP sets with more than 20 data points\n",
    "#print \"(3):\"\n",
    "for N in unique(dataN):\n",
    "    for lP in unique(datalP):\n",
    "        thisNPmask = mask * (dataN == N) * (datalP == lP)\n",
    "        numpacks = len(summ[thisNPmask])\n",
    "        if numpacks < 20:\n",
    "            if numpacks > 0:\n",
    "                #print \"  \", N, lP, \"skipped (only\", numpacks, \"packings)\"\n",
    "                mask[thisNPmask] = 0\n",
    "\n",
    "#print \"After (3): \", len(summ[mask])\n",
    "\n",
    "summ = summ[mask]\n",
    "dataN = summ[\"N\"]\n",
    "datalP = around(log10(summ[\"P\"]),2)"
   ]
  },
  {
   "cell_type": "code",
   "execution_count": 5,
   "metadata": {
    "collapsed": false
   },
   "outputs": [
    {
     "ename": "NameError",
     "evalue": "name 'np' is not defined",
     "output_type": "error",
     "traceback": [
      "\u001b[1;31m---------------------------------------------------------------------------\u001b[0m",
      "\u001b[1;31mNameError\u001b[0m                                 Traceback (most recent call last)",
      "\u001b[1;32m<ipython-input-5-a21ad6d6bcb5>\u001b[0m in \u001b[0;36m<module>\u001b[1;34m()\u001b[0m\n\u001b[1;32m----> 1\u001b[1;33m \u001b[0mnp\u001b[0m\u001b[1;33m.\u001b[0m\u001b[0mamax\u001b[0m\u001b[1;33m(\u001b[0m\u001b[0mnp\u001b[0m\u001b[1;33m.\u001b[0m\u001b[0munique\u001b[0m\u001b[1;33m(\u001b[0m\u001b[0mdataN\u001b[0m\u001b[1;33m)\u001b[0m\u001b[1;33m)\u001b[0m\u001b[1;33m\u001b[0m\u001b[0m\n\u001b[0m",
      "\u001b[1;31mNameError\u001b[0m: name 'np' is not defined"
     ]
    }
   ],
   "source": [
    "import json\n",
    "all_biax_measurements = json.load(open(\"u:/biax_metingen_shear.json\"))\n",
    "\n",
    "phi_norm = mpl.colors.Normalize(vmin=0.8, vmax=1.6)\n",
    "phi_cmap = plt.get_cmap('viridis_r')"
   ]
  },
  {
   "cell_type": "code",
   "execution_count": null,
   "metadata": {
    "collapsed": false
   },
   "outputs": [],
   "source": [
    "import sys\n",
    "sys.path.append(\"d:/my documents/phd-library\")\n",
    "sys.path.append(r\"C:\\Users\\deen\\Dropbox\\PhD Rearrangements\\figs\")\n",
    "from plotprint import printer"
   ]
  },
  {
   "cell_type": "code",
   "execution_count": null,
   "metadata": {
    "collapsed": false
   },
   "outputs": [],
   "source": [
    "from IPython.core.display import display_html, HTML\n",
    "\n",
    "def hprint(h):\n",
    "    display_html(HTML(h))"
   ]
  },
  {
   "cell_type": "code",
   "execution_count": 20,
   "metadata": {
    "ExecuteTime": {
     "end_time": "2016-08-22T16:19:41.234000",
     "start_time": "2016-08-22T16:19:41.222000"
    },
    "collapsed": false
   },
   "outputs": [
    {
     "data": {
      "text/plain": [
       "8.186891748535585"
      ]
     },
     "execution_count": 20,
     "metadata": {},
     "output_type": "execute_result"
    }
   ],
   "source": [
    "fig_height*2.5"
   ]
  },
  {
   "cell_type": "code",
   "execution_count": 32,
   "metadata": {
    "ExecuteTime": {
     "end_time": "2016-08-22T16:22:38.720000",
     "start_time": "2016-08-22T16:22:38.709000"
    },
    "collapsed": false
   },
   "outputs": [
    {
     "data": {
      "text/plain": [
       "0.75"
      ]
     },
     "execution_count": 32,
     "metadata": {},
     "output_type": "execute_result"
    }
   ],
   "source": []
  },
  {
   "cell_type": "code",
   "execution_count": 8,
   "metadata": {
    "ExecuteTime": {
     "end_time": "2016-08-22T16:12:10.342000",
     "start_time": "2016-08-22T16:12:10.320000"
    },
    "collapsed": false
   },
   "outputs": [],
   "source": [
    "#white = array([1,1,1])\n",
    "red = array([1,0,0])\n",
    "blue = array([0,0,1])\n",
    "\n",
    "mnlN = log10(16)\n",
    "mxlN = log10(4096)\n",
    "\n",
    "#orange = array([1,.4,0])\n",
    "#brown = array([139,69,19])/256.\n",
    "\n",
    "#cmap = matplotlib\n",
    "#cmap, norm = mpl.colors.from_levels_and_colors(np.arange(-0.5,7,1), colors)\n",
    "\n",
    "import matplotlib\n",
    "NPcmap = matplotlib.colors.LinearSegmentedColormap.from_list(\"BuPuRd\", [blue, red])\n",
    "NPnorm = matplotlib.colors.LogNorm(vmin=16, vmax=4096)\n",
    "\n",
    "def NPmapper(N,P):\n",
    "    rv = {'marker': {16: \"o\", 22: \"v\", 32: \"D\", 64: \"^\", 128: \"p\", 256: \"*\", 512: \"s\", 1024: \"<\", 2048: \"d\", 4096: \">\"}.get(N, \"o\")}\n",
    "    scl = (log10(N) - mnlN) / (mxlN - mnlN)\n",
    "    \n",
    "    if N <= 32:\n",
    "        rv[\"marker\"] = \"<\"\n",
    "    elif N <= 512:\n",
    "        rv[\"marker\"] = \"s\"\n",
    "    else:\n",
    "        rv[\"marker\"] = \">\"\n",
    "\n",
    "    rv[\"color\"] = \"white\"\n",
    "    \n",
    "    rv[\"mec\"] = NPcmap(NPnorm(N)) #blue + (red-blue) * scl\n",
    "    return rv"
   ]
  },
  {
   "cell_type": "code",
   "execution_count": 6,
   "metadata": {
    "collapsed": true
   },
   "outputs": [],
   "source": [
    "if False:\n",
    "    Ns = np.unique(dataN)\n",
    "\n",
    "    fig = figure(figsize=(fig_width/2.05/4, fig_width/2.05))\n",
    "\n",
    "    base_ax = fig.add_axes([\n",
    "            0.05, # left\n",
    "            half_fig_sppars.bottom, # bot\n",
    "            0.5, # width\n",
    "            half_fig_sppars.top - half_fig_sppars.bottom # heigth\n",
    "    ] )\n",
    "\n",
    "    base_ax.set_xticks([])\n",
    "    base_ax.set_yticks([])\n",
    "\n",
    "    ax = plt.twinx()\n",
    "    for sp in ['top', 'right', 'bottom', 'left']:\n",
    "        base_ax.spines[sp].set_visible(False)\n",
    "        ax.spines[sp].set_visible(False)\n",
    "        pass\n",
    "\n",
    "    plt.axis(xmin=0, xmax=1, ymin=11.3, ymax=2896)\n",
    "\n",
    "    plt.semilogy()\n",
    "    ticks = [16,32,64,128,256,512,1024,2048]\n",
    "    ax.set_yticks(ticks)\n",
    "    ax.set_yticks([], minor=True)\n",
    "    plt.setp(ax.get_yticklines(), visible=False)\n",
    "    ax.set_yticklabels([str(x) for x in ticks])\n",
    "\n",
    "    for pos, tick in zip(ticks, ax.yaxis.get_majorticklabels()):\n",
    "        tick.set_x(0.25)\n",
    "        tick.set_y(pos / 1.05)\n",
    "        tick.set_y = lambda x: None\n",
    "\n",
    "    plt.ylabel(\"N\", rotation='horizontal')\n",
    "\n",
    "    for N in Ns:\n",
    "        kw  = NPmapper(N,1)\n",
    "        kw.update(ms=2)\n",
    "        #kw.update(**kwargs)\n",
    "        plt.plot(0, N, clip_on=False,**kw)\n",
    "\n",
    "    plt.savefig('general-legend.pdf')"
   ]
  },
  {
   "cell_type": "code",
   "execution_count": 3,
   "metadata": {
    "ExecuteTime": {
     "end_time": "2016-08-21T14:26:28.113000",
     "start_time": "2016-08-21T14:26:27.163000"
    },
    "collapsed": false
   },
   "outputs": [
    {
     "ename": "NameError",
     "evalue": "name 'plt' is not defined",
     "output_type": "error",
     "traceback": [
      "\u001b[1;31m---------------------------------------------------------------------------\u001b[0m",
      "\u001b[1;31mNameError\u001b[0m                                 Traceback (most recent call last)",
      "\u001b[1;32m<ipython-input-3-38b5f44b2b52>\u001b[0m in \u001b[0;36m<module>\u001b[1;34m()\u001b[0m\n\u001b[0;32m      5\u001b[0m         \u001b[1;32mraise\u001b[0m \u001b[0mException\u001b[0m\u001b[1;33m(\u001b[0m\u001b[1;34m'dit kan niet'\u001b[0m\u001b[1;33m)\u001b[0m\u001b[1;33m\u001b[0m\u001b[0m\n\u001b[0;32m      6\u001b[0m \u001b[1;32mexcept\u001b[0m \u001b[0mNameError\u001b[0m\u001b[1;33m:\u001b[0m\u001b[1;33m\u001b[0m\u001b[0m\n\u001b[1;32m----> 7\u001b[1;33m     \u001b[0m_oldsavefig\u001b[0m \u001b[1;33m=\u001b[0m \u001b[0mplt\u001b[0m\u001b[1;33m.\u001b[0m\u001b[0msavefig\u001b[0m\u001b[1;33m\u001b[0m\u001b[0m\n\u001b[0m\u001b[0;32m      8\u001b[0m \u001b[1;33m\u001b[0m\u001b[0m\n\u001b[0;32m      9\u001b[0m \u001b[1;32mfrom\u001b[0m \u001b[0mfunctools\u001b[0m \u001b[1;32mimport\u001b[0m \u001b[0mwraps\u001b[0m\u001b[1;33m\u001b[0m\u001b[0m\n",
      "\u001b[1;31mNameError\u001b[0m: name 'plt' is not defined"
     ]
    }
   ],
   "source": [
    "try:\n",
    "    if _oldsavefig:\n",
    "        assert(_oldsavefig.__module__ != '__main__')\n",
    "    else:\n",
    "        raise Exception('dit kan niet')\n",
    "except NameError:\n",
    "    _oldsavefig = plt.savefig\n",
    "\n",
    "from functools import wraps\n",
    "\n",
    "def decorator(f):\n",
    "    def _decorator(fn, *args, **kwargs):\n",
    "        print r\"\\includegraphics{notebooks/%s/%s}\" % (theNotebook, fn)\n",
    "\n",
    "        p,ext = fn.rsplit(\".\")\n",
    "        \n",
    "        colorpng = p + \"-color.png\"\n",
    "        bwpng = p + \"-bw.png\"\n",
    "        print (r\"\\ifcolor\\includegraphics{notebooks/%s/%s}\" + \n",
    "        r\"\\else\\includegraphics[width=%.3fin]{notebooks/%s/%s}\\fi\") % (\n",
    "            theNotebook, fn, plt.gcf().get_size_inches()[0],\n",
    "            theNotebook, bwpng\n",
    "        )\n",
    "        _oldsavefig(colorpng, dpi=300)\n",
    "        from PIL import Image\n",
    "        Image.open(colorpng).convert('L').save(bwpng)\n",
    "        #colorfig = plt.imread(colorpng)\n",
    "        #bwfig = 0.2989 * colorfig[:,:,0] + 0.5870 * colorfig[:,:,1] + 0.1140 * colorfig[:,:,2]\n",
    "        #plt.imsave(bwpng, bwfig, cmap='gray', vmin=0, vmax=1)\n",
    "        return f(fn, *args, **kwargs)\n",
    "    _decorator.__doc__ = f.__doc__\n",
    "    return _decorator\n",
    "\n",
    "plt.savefig = decorator(_oldsavefig)\n",
    "savefig = plt.savefig"
   ]
  },
  {
   "cell_type": "code",
   "execution_count": null,
   "metadata": {
    "collapsed": true
   },
   "outputs": [],
   "source": []
  }
 ],
 "metadata": {
  "kernelspec": {
   "display_name": "Python 2",
   "language": "python",
   "name": "python2"
  },
  "language_info": {
   "codemirror_mode": {
    "name": "ipython",
    "version": 2
   },
   "file_extension": ".py",
   "mimetype": "text/x-python",
   "name": "python",
   "nbconvert_exporter": "python",
   "pygments_lexer": "ipython2",
   "version": "2.7.6"
  }
 },
 "nbformat": 4,
 "nbformat_minor": 0
}
