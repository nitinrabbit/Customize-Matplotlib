{
 "cells": [
  {
   "cell_type": "markdown",
   "metadata": {},
   "source": [
    "# Script for customizing Matplotlib\n",
    "## Serves follwing purposes:\n",
    "* Figsize, figures 'ggplot' types, grid and frame\n",
    "* Sets standard for axis label, fontname and fontsize\n",
    "* Functionality for explicitly postioning labels is deprecated for standard reasons\n",
    "* Sets axis ticks size, type, fontsize, fontname\n",
    "* Provides functionality for explicitly setting ticks and positioning\n",
    "* Right curve coloring for publication quality\n",
    "* Legend and explicitly setting its properties. "
   ]
  },
  {
   "cell_type": "code",
   "execution_count": 1,
   "metadata": {
    "collapsed": true
   },
   "outputs": [],
   "source": [
    "# SUPPRESS ALL WARNINGS BEFOREHAND\n",
    "import warnings\n",
    "warnings.filterwarnings(\"ignore\")"
   ]
  },
  {
   "cell_type": "code",
   "execution_count": 2,
   "metadata": {
    "collapsed": false
   },
   "outputs": [],
   "source": [
    "# IMPORT THE RELEVANT PACKAGES\n",
    "import numpy as np\n",
    "from matplotlib import pyplot as plt\n",
    "#% matplotlib inline\n",
    "import re\n",
    "import random"
   ]
  },
  {
   "cell_type": "code",
   "execution_count": 13,
   "metadata": {
    "collapsed": false
   },
   "outputs": [],
   "source": [
    "# SET SOME DEFAULTS\n",
    "plt.style.use('ggplot')\n",
    "plt.figaspect(1.0)\n",
    "\n",
    "plt.rcParams.update({'figure.autolayout': True})\n",
    "\n",
    "plt.rcParams[\"font.family\"] = \"Helvetica\"\n",
    "\n",
    "plt.rcParams['axes.labelsize']  = 20\n",
    "\n",
    "plt.rcParams['xtick.labelsize'] = 15 \n",
    "plt.rcParams['ytick.labelsize'] = 15\n",
    "\n",
    "plt.rcParams['xtick.major.size'] = 4\n",
    "plt.rcParams['xtick.major.width'] = 1\n",
    "\n",
    "plt.rcParams['ytick.major.size'] = 4\n",
    "plt.rcParams['ytick.major.width'] = 1\n",
    "\n",
    "#plt.rcParams['xtick.minor.size'] = 2\n",
    "#plt.rcParams['xtick.minor.width'] = 1\n",
    "\n",
    "plt.rcParams['ytick.minor.size'] = 1\n",
    "plt.rcParams['ytick.minor.width'] = 1\n"
   ]
  },
  {
   "cell_type": "code",
   "execution_count": 14,
   "metadata": {
    "collapsed": false
   },
   "outputs": [
    {
     "name": "stdout",
     "output_type": "stream",
     "text": [
      "Respective Hex Codes are: \"#999999\", \"#E69F00\", \"#56B4E9\", \"#009E73\", \"#F0E442\", \"#0072B2\", \"#D55E00\", \"#CC79A7\"\n"
     ]
    }
   ],
   "source": [
    "# COMMON COLORS\n",
    "from IPython.display import Image\n",
    "image = Image(filename='pellete 1.png')\n",
    "print('Respective Hex Codes are: \"#999999\", \"#E69F00\", \"#56B4E9\", \"#009E73\", \"#F0E442\", \"#0072B2\", \"#D55E00\", \"#CC79A7\"')\n",
    "image\n",
    "other_clr = {'red':'#F8766D','golden':'#B79F00','green':'#00BA38','royalblue':'#619CFF','turquoise':'#00BFC4','pink':'#F564E3'}"
   ]
  },
  {
   "cell_type": "code",
   "execution_count": 16,
   "metadata": {
    "collapsed": false
   },
   "outputs": [],
   "source": [
    "# IMPORT THE X AND Y DATA AND GENERATE 4 PLOTS\n",
    "meanCost = np.zeros((100,1))\n",
    "fig = plt.figure(1, figsize = (8*1,6*1))\n",
    "ax = fig.add_subplot(111)\n",
    "\n",
    "clr_list = ['#F8766D','#B79F00','#00BA38', '#619CFF', '#00BFC4', '#F564E3']\n",
    "\n",
    "for i in range(4):\n",
    "    j = random.randint(0,99)\n",
    "    file = r'\\\\storage01\\data\\AMOLF\\users\\singh\\Lisa PSO Runs\\New - MSE Cost Function\\Weight - 0.25'\\\n",
    "            '\\RunPso_c125_s125_r{0}.out'.format(\"%02d\"%j)\n",
    "    fp   = open(file)\n",
    "    for k,line in enumerate(fp):\n",
    "        if(k==9 or (k-1543)%1534 == 0):\n",
    "            temp = re.split(r':', line)\n",
    "            if(k==9):\n",
    "                meanCost[0,0] = temp[1]\n",
    "            elif((k-1543)/1534 < 99):\n",
    "                meanCost[(k-1543)/1534+1,0] = temp[1]\n",
    "    \n",
    "    \n",
    "    ax.semilogy(meanCost, color =  clr_list[i], linewidth = 2, label = '${c_1}$ = 1.25, $c_2$ = 1.25')  \n",
    "    \n",
    "\n",
    "#-------------------------------------    \n",
    "# AXIS LABELS AND TICKS NAME AND SIZE    \n",
    "ax.set_xlabel('x-lagel')\n",
    "ax.set_ylabel('Y-label')\n",
    "\n",
    "#-------------------------------------------------------------------------\n",
    "#SHOW LEGEND. rc PARAMS NOT WORKING, SET LEGEND PROPERTIES SEPARATELY\n",
    "ax.legend(loc='1',ncol=1, borderaxespad=0.0, prop={'size':15}, fontsize = 20)\n",
    "frame = ax.legend().get_frame().set_facecolor('white')\n",
    "\n",
    "plt.show()"
   ]
  },
  {
   "cell_type": "code",
   "execution_count": 6,
   "metadata": {
    "collapsed": false
   },
   "outputs": [
    {
     "data": {
      "text/plain": [
       "'#F8766D'"
      ]
     },
     "execution_count": 6,
     "metadata": {},
     "output_type": "execute_result"
    }
   ],
   "source": [
    "color_dict = {'red':'#F8766D','golden':'#B79F00','green':'#00BA38','royalblue':'#619CFF','turquoise':'#00BFC4','pink':'#F564E3'}\n",
    "color_dict['red']"
   ]
  },
  {
   "cell_type": "code",
   "execution_count": null,
   "metadata": {
    "collapsed": false
   },
   "outputs": [],
   "source": []
  },
  {
   "cell_type": "code",
   "execution_count": null,
   "metadata": {
    "collapsed": true
   },
   "outputs": [],
   "source": []
  }
 ],
 "metadata": {
  "kernelspec": {
   "display_name": "Python 3",
   "language": "python",
   "name": "python3"
  },
  "language_info": {
   "codemirror_mode": {
    "name": "ipython",
    "version": 3
   },
   "file_extension": ".py",
   "mimetype": "text/x-python",
   "name": "python",
   "nbconvert_exporter": "python",
   "pygments_lexer": "ipython3",
   "version": "3.5.2"
  }
 },
 "nbformat": 4,
 "nbformat_minor": 0
}
